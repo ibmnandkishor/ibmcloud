{
    "cells": [
        {
            "metadata": {},
            "cell_type": "code",
            "source": "\nimport os, types\nimport pandas as pd\nfrom botocore.client import Config\nimport ibm_boto3\n\ndef __iter__(self): return 0\n\n# @hidden_cell\n# The following code accesses a file in your IBM Cloud Object Storage. It includes your credentials.\n# You might want to remove those credentials before you share the notebook.\ncos_client = ibm_boto3.client(service_name='s3',\n    ibm_api_key_id='G_KAS3ZS8xh6pWSeePAvJZhAPzp3hc2OFngk_Kqhbs9g',\n    ibm_auth_endpoint=\"https://iam.cloud.ibm.com/oidc/token\",\n    config=Config(signature_version='oauth'),\n    endpoint_url='https://s3.private.eu-gb.cloud-object-storage.appdomain.cloud')\n\nbucket = 'nandkishor-donotdelete-pr-euaibnseixohot'\nobject_key = 'student.csv'\n\nbody = cos_client.get_object(Bucket=bucket,Key=object_key)['Body']\n# add missing __iter__ method, so pandas accepts body as file-like object\nif not hasattr(body, \"__iter__\"): body.__iter__ = types.MethodType( __iter__, body )\n\ndf_data_1 = pd.read_csv(body)\ndf_data_1.head()\n\n",
            "execution_count": 1,
            "outputs": [
                {
                    "output_type": "execute_result",
                    "execution_count": 1,
                    "data": {
                        "text/plain": "                        _id        name  sl trade\n0  6461c77073ec2dc369a0a8c8       vivek   1  adit\n1  6461c77073ec2dc369a0a8c9        amit   2  adit\n2  6461c77073ec2dc369a0a8ca         raj   3  adit\n3                     adit1  nandkishor   4  adit",
                        "text/html": "<div>\n<style scoped>\n    .dataframe tbody tr th:only-of-type {\n        vertical-align: middle;\n    }\n\n    .dataframe tbody tr th {\n        vertical-align: top;\n    }\n\n    .dataframe thead th {\n        text-align: right;\n    }\n</style>\n<table border=\"1\" class=\"dataframe\">\n  <thead>\n    <tr style=\"text-align: right;\">\n      <th></th>\n      <th>_id</th>\n      <th>name</th>\n      <th>sl</th>\n      <th>trade</th>\n    </tr>\n  </thead>\n  <tbody>\n    <tr>\n      <th>0</th>\n      <td>6461c77073ec2dc369a0a8c8</td>\n      <td>vivek</td>\n      <td>1</td>\n      <td>adit</td>\n    </tr>\n    <tr>\n      <th>1</th>\n      <td>6461c77073ec2dc369a0a8c9</td>\n      <td>amit</td>\n      <td>2</td>\n      <td>adit</td>\n    </tr>\n    <tr>\n      <th>2</th>\n      <td>6461c77073ec2dc369a0a8ca</td>\n      <td>raj</td>\n      <td>3</td>\n      <td>adit</td>\n    </tr>\n    <tr>\n      <th>3</th>\n      <td>adit1</td>\n      <td>nandkishor</td>\n      <td>4</td>\n      <td>adit</td>\n    </tr>\n  </tbody>\n</table>\n</div>"
                    },
                    "metadata": {}
                }
            ]
        },
        {
            "metadata": {},
            "cell_type": "code",
            "source": "\nimport os, types\nimport pandas as pd\nfrom botocore.client import Config\nimport ibm_boto3\n\ndef __iter__(self): return 0\n\n# @hidden_cell\n# The following code accesses a file in your IBM Cloud Object Storage. It includes your credentials.\n# You might want to remove those credentials before you share the notebook.\ncos_client = ibm_boto3.client(service_name='s3',\n    ibm_api_key_id='G_KAS3ZS8xh6pWSeePAvJZhAPzp3hc2OFngk_Kqhbs9g',\n    ibm_auth_endpoint=\"https://iam.cloud.ibm.com/oidc/token\",\n    config=Config(signature_version='oauth'),\n    endpoint_url='https://s3.private.eu-gb.cloud-object-storage.appdomain.cloud')\n\nbucket = 'nandkishor-donotdelete-pr-euaibnseixohot'\nobject_key = 'Financial Statements.csv'\n\nbody = cos_client.get_object(Bucket=bucket,Key=object_key)['Body']\n# add missing __iter__ method, so pandas accepts body as file-like object\nif not hasattr(body, \"__iter__\"): body.__iter__ = types.MethodType( __iter__, body )\n\ndf_data_2 = pd.read_csv(body)\ndf_data_2.head()\n\n",
            "execution_count": 2,
            "outputs": [
                {
                    "output_type": "execute_result",
                    "execution_count": 2,
                    "data": {
                        "text/plain": "   Year Company  Category  Market Cap(in B USD)   Revenue  Gross Profit  \\\n0  2022     AAPL       IT               2066.94  394328.0      170782.0   \n1  2021     AAPL       IT               2913.28  365817.0      152836.0   \n2  2020     AAPL       IT               2255.97  274515.0      104956.0   \n3  2019     AAPL       IT               1304.76  260174.0       98392.0   \n4  2018     AAPL       IT                748.54  265595.0      101839.0   \n\n   Net Income  Earning Per Share    EBITDA  Share Holder Equity  ...  \\\n0     99803.0               6.11  130541.0              50672.0  ...   \n1     94680.0               5.61  120233.0              63090.0  ...   \n2     57411.0               3.28   77344.0              65339.0  ...   \n3     55256.0               2.97   76477.0              90488.0  ...   \n4     59531.0               2.98   81801.0             107147.0  ...   \n\n   Current Ratio  Debt/Equity Ratio       ROE      ROA      ROI  \\\n0         0.8794             2.3695  196.9589  28.2924  66.6994   \n1         1.0746             1.9768  150.0713  26.9742  54.9839   \n2         1.3636             1.7208   87.8664  17.7256  35.0054   \n3         1.5401             1.1940   61.0645  16.3230  30.3113   \n4         1.1329             1.0685   55.5601  16.2775  29.6348   \n\n   Net Profit Margin  Free Cash Flow per Share  Return on Tangible Equity  \\\n0            25.3096                    1.3146                   196.9589   \n1            25.8818                    1.3261                   150.0713   \n2            20.9136                    1.0183                    87.8664   \n3            21.2381                   -0.0388                    61.0645   \n4            22.4142                    0.7414                    55.5601   \n\n   Number of Employees  Inflation Rate(in US)  \n0               164000                 8.0028  \n1               154000                 4.6979  \n2               147000                 1.2336  \n3               137000                 1.8122  \n4               132000                 2.4426  \n\n[5 rows x 23 columns]",
                        "text/html": "<div>\n<style scoped>\n    .dataframe tbody tr th:only-of-type {\n        vertical-align: middle;\n    }\n\n    .dataframe tbody tr th {\n        vertical-align: top;\n    }\n\n    .dataframe thead th {\n        text-align: right;\n    }\n</style>\n<table border=\"1\" class=\"dataframe\">\n  <thead>\n    <tr style=\"text-align: right;\">\n      <th></th>\n      <th>Year</th>\n      <th>Company</th>\n      <th>Category</th>\n      <th>Market Cap(in B USD)</th>\n      <th>Revenue</th>\n      <th>Gross Profit</th>\n      <th>Net Income</th>\n      <th>Earning Per Share</th>\n      <th>EBITDA</th>\n      <th>Share Holder Equity</th>\n      <th>...</th>\n      <th>Current Ratio</th>\n      <th>Debt/Equity Ratio</th>\n      <th>ROE</th>\n      <th>ROA</th>\n      <th>ROI</th>\n      <th>Net Profit Margin</th>\n      <th>Free Cash Flow per Share</th>\n      <th>Return on Tangible Equity</th>\n      <th>Number of Employees</th>\n      <th>Inflation Rate(in US)</th>\n    </tr>\n  </thead>\n  <tbody>\n    <tr>\n      <th>0</th>\n      <td>2022</td>\n      <td>AAPL</td>\n      <td>IT</td>\n      <td>2066.94</td>\n      <td>394328.0</td>\n      <td>170782.0</td>\n      <td>99803.0</td>\n      <td>6.11</td>\n      <td>130541.0</td>\n      <td>50672.0</td>\n      <td>...</td>\n      <td>0.8794</td>\n      <td>2.3695</td>\n      <td>196.9589</td>\n      <td>28.2924</td>\n      <td>66.6994</td>\n      <td>25.3096</td>\n      <td>1.3146</td>\n      <td>196.9589</td>\n      <td>164000</td>\n      <td>8.0028</td>\n    </tr>\n    <tr>\n      <th>1</th>\n      <td>2021</td>\n      <td>AAPL</td>\n      <td>IT</td>\n      <td>2913.28</td>\n      <td>365817.0</td>\n      <td>152836.0</td>\n      <td>94680.0</td>\n      <td>5.61</td>\n      <td>120233.0</td>\n      <td>63090.0</td>\n      <td>...</td>\n      <td>1.0746</td>\n      <td>1.9768</td>\n      <td>150.0713</td>\n      <td>26.9742</td>\n      <td>54.9839</td>\n      <td>25.8818</td>\n      <td>1.3261</td>\n      <td>150.0713</td>\n      <td>154000</td>\n      <td>4.6979</td>\n    </tr>\n    <tr>\n      <th>2</th>\n      <td>2020</td>\n      <td>AAPL</td>\n      <td>IT</td>\n      <td>2255.97</td>\n      <td>274515.0</td>\n      <td>104956.0</td>\n      <td>57411.0</td>\n      <td>3.28</td>\n      <td>77344.0</td>\n      <td>65339.0</td>\n      <td>...</td>\n      <td>1.3636</td>\n      <td>1.7208</td>\n      <td>87.8664</td>\n      <td>17.7256</td>\n      <td>35.0054</td>\n      <td>20.9136</td>\n      <td>1.0183</td>\n      <td>87.8664</td>\n      <td>147000</td>\n      <td>1.2336</td>\n    </tr>\n    <tr>\n      <th>3</th>\n      <td>2019</td>\n      <td>AAPL</td>\n      <td>IT</td>\n      <td>1304.76</td>\n      <td>260174.0</td>\n      <td>98392.0</td>\n      <td>55256.0</td>\n      <td>2.97</td>\n      <td>76477.0</td>\n      <td>90488.0</td>\n      <td>...</td>\n      <td>1.5401</td>\n      <td>1.1940</td>\n      <td>61.0645</td>\n      <td>16.3230</td>\n      <td>30.3113</td>\n      <td>21.2381</td>\n      <td>-0.0388</td>\n      <td>61.0645</td>\n      <td>137000</td>\n      <td>1.8122</td>\n    </tr>\n    <tr>\n      <th>4</th>\n      <td>2018</td>\n      <td>AAPL</td>\n      <td>IT</td>\n      <td>748.54</td>\n      <td>265595.0</td>\n      <td>101839.0</td>\n      <td>59531.0</td>\n      <td>2.98</td>\n      <td>81801.0</td>\n      <td>107147.0</td>\n      <td>...</td>\n      <td>1.1329</td>\n      <td>1.0685</td>\n      <td>55.5601</td>\n      <td>16.2775</td>\n      <td>29.6348</td>\n      <td>22.4142</td>\n      <td>0.7414</td>\n      <td>55.5601</td>\n      <td>132000</td>\n      <td>2.4426</td>\n    </tr>\n  </tbody>\n</table>\n<p>5 rows \u00d7 23 columns</p>\n</div>"
                    },
                    "metadata": {}
                }
            ]
        },
        {
            "metadata": {},
            "cell_type": "code",
            "source": "",
            "execution_count": null,
            "outputs": []
        }
    ],
    "metadata": {
        "kernelspec": {
            "name": "python3",
            "display_name": "Python 3.10",
            "language": "python"
        },
        "language_info": {
            "name": "python",
            "version": "3.10.13",
            "mimetype": "text/x-python",
            "codemirror_mode": {
                "name": "ipython",
                "version": 3
            },
            "pygments_lexer": "ipython3",
            "nbconvert_exporter": "python",
            "file_extension": ".py"
        }
    },
    "nbformat": 4,
    "nbformat_minor": 1
}