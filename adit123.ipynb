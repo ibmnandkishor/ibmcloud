{
    "cells": [
        {
            "metadata": {},
            "cell_type": "code",
            "source": "\nimport os, types\nimport pandas as pd\nfrom botocore.client import Config\nimport ibm_boto3\n\ndef __iter__(self): return 0\n\n# @hidden_cell\n# The following code accesses a file in your IBM Cloud Object Storage. It includes your credentials.\n# You might want to remove those credentials before you share the notebook.\ncos_client = ibm_boto3.client(service_name='s3',\n    ibm_api_key_id='G_KAS3ZS8xh6pWSeePAvJZhAPzp3hc2OFngk_Kqhbs9g',\n    ibm_auth_endpoint=\"https://iam.cloud.ibm.com/oidc/token\",\n    config=Config(signature_version='oauth'),\n    endpoint_url='https://s3.private.eu-gb.cloud-object-storage.appdomain.cloud')\n\nbucket = 'nandkishor-donotdelete-pr-euaibnseixohot'\nobject_key = 'student.csv'\n\nbody = cos_client.get_object(Bucket=bucket,Key=object_key)['Body']\n# add missing __iter__ method, so pandas accepts body as file-like object\nif not hasattr(body, \"__iter__\"): body.__iter__ = types.MethodType( __iter__, body )\n\ndf_data_1 = pd.read_csv(body)\ndf_data_1.head()\n\n",
            "execution_count": 1,
            "outputs": [
                {
                    "output_type": "execute_result",
                    "execution_count": 1,
                    "data": {
                        "text/plain": "                        _id        name  sl trade\n0  6461c77073ec2dc369a0a8c8       vivek   1  adit\n1  6461c77073ec2dc369a0a8c9        amit   2  adit\n2  6461c77073ec2dc369a0a8ca         raj   3  adit\n3                     adit1  nandkishor   4  adit",
                        "text/html": "<div>\n<style scoped>\n    .dataframe tbody tr th:only-of-type {\n        vertical-align: middle;\n    }\n\n    .dataframe tbody tr th {\n        vertical-align: top;\n    }\n\n    .dataframe thead th {\n        text-align: right;\n    }\n</style>\n<table border=\"1\" class=\"dataframe\">\n  <thead>\n    <tr style=\"text-align: right;\">\n      <th></th>\n      <th>_id</th>\n      <th>name</th>\n      <th>sl</th>\n      <th>trade</th>\n    </tr>\n  </thead>\n  <tbody>\n    <tr>\n      <th>0</th>\n      <td>6461c77073ec2dc369a0a8c8</td>\n      <td>vivek</td>\n      <td>1</td>\n      <td>adit</td>\n    </tr>\n    <tr>\n      <th>1</th>\n      <td>6461c77073ec2dc369a0a8c9</td>\n      <td>amit</td>\n      <td>2</td>\n      <td>adit</td>\n    </tr>\n    <tr>\n      <th>2</th>\n      <td>6461c77073ec2dc369a0a8ca</td>\n      <td>raj</td>\n      <td>3</td>\n      <td>adit</td>\n    </tr>\n    <tr>\n      <th>3</th>\n      <td>adit1</td>\n      <td>nandkishor</td>\n      <td>4</td>\n      <td>adit</td>\n    </tr>\n  </tbody>\n</table>\n</div>"
                    },
                    "metadata": {}
                }
            ]
        },
        {
            "metadata": {},
            "cell_type": "code",
            "source": "",
            "execution_count": null,
            "outputs": []
        }
    ],
    "metadata": {
        "kernelspec": {
            "name": "python3",
            "display_name": "Python 3.10",
            "language": "python"
        },
        "language_info": {
            "name": "python",
            "version": "3.10.13",
            "mimetype": "text/x-python",
            "codemirror_mode": {
                "name": "ipython",
                "version": 3
            },
            "pygments_lexer": "ipython3",
            "nbconvert_exporter": "python",
            "file_extension": ".py"
        }
    },
    "nbformat": 4,
    "nbformat_minor": 1
}