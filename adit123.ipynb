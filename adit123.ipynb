{
    "cells": [
        {
            "cell_type": "code",
            "execution_count": 1,
            "metadata": {},
            "outputs": [
                {
                    "data": {
                        "text/html": "<div>\n<style scoped>\n    .dataframe tbody tr th:only-of-type {\n        vertical-align: middle;\n    }\n\n    .dataframe tbody tr th {\n        vertical-align: top;\n    }\n\n    .dataframe thead th {\n        text-align: right;\n    }\n</style>\n<table border=\"1\" class=\"dataframe\">\n  <thead>\n    <tr style=\"text-align: right;\">\n      <th></th>\n      <th>_id</th>\n      <th>name</th>\n      <th>sl</th>\n      <th>trade</th>\n    </tr>\n  </thead>\n  <tbody>\n    <tr>\n      <th>0</th>\n      <td>6461c77073ec2dc369a0a8c8</td>\n      <td>vivek</td>\n      <td>1</td>\n      <td>adit</td>\n    </tr>\n    <tr>\n      <th>1</th>\n      <td>6461c77073ec2dc369a0a8c9</td>\n      <td>amit</td>\n      <td>2</td>\n      <td>adit</td>\n    </tr>\n    <tr>\n      <th>2</th>\n      <td>6461c77073ec2dc369a0a8ca</td>\n      <td>raj</td>\n      <td>3</td>\n      <td>adit</td>\n    </tr>\n    <tr>\n      <th>3</th>\n      <td>adit1</td>\n      <td>nandkishor</td>\n      <td>4</td>\n      <td>adit</td>\n    </tr>\n  </tbody>\n</table>\n</div>",
                        "text/plain": "                        _id        name  sl trade\n0  6461c77073ec2dc369a0a8c8       vivek   1  adit\n1  6461c77073ec2dc369a0a8c9        amit   2  adit\n2  6461c77073ec2dc369a0a8ca         raj   3  adit\n3                     adit1  nandkishor   4  adit"
                    },
                    "execution_count": 1,
                    "metadata": {},
                    "output_type": "execute_result"
                }
            ],
            "source": "# The code was removed by Watson Studio for sharing."
        },
        {
            "cell_type": "code",
            "execution_count": null,
            "metadata": {},
            "outputs": [],
            "source": ""
        }
    ],
    "metadata": {
        "kernelspec": {
            "display_name": "Python 3.10",
            "language": "python",
            "name": "python3"
        },
        "language_info": {
            "codemirror_mode": {
                "name": "ipython",
                "version": 3
            },
            "file_extension": ".py",
            "mimetype": "text/x-python",
            "name": "python",
            "nbconvert_exporter": "python",
            "pygments_lexer": "ipython3",
            "version": "3.10.13"
        }
    },
    "nbformat": 4,
    "nbformat_minor": 1
}